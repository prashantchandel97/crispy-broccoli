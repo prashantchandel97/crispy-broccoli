{
 "cells": [
  {
   "cell_type": "markdown",
   "id": "lucky-logging",
   "metadata": {},
   "source": [
    " # Project Overview"
   ]
  },
  {
   "cell_type": "markdown",
   "id": "attractive-google",
   "metadata": {},
   "source": [
    "The domain that I will be working on for this capstone project is image captioning, which is a multi modal task involving both image encoding and language generation. Traditionally CNN-RNN combination has been used for similar tasks. Using this project I want to\n",
    "implement a project based on the latest research which involves using transformers and has produced state of the art results.\n",
    "I chose this particular project because it will give me exposure to working on transformers,NLP and Image recognition all together.\n",
    "\n",
    "## Datasets and Input Data\n",
    "\n",
    "The dataset that I finally used for this project is Flick 8k because of logistical issues I wasnt able to use Flickr30k as that resulted in my AWS limit getting exceeded.\n",
    "\n",
    "Flickr8k dataset is a standard benchmark database for image description based tasks was used. The dataset can be found from kaggle. The dataset is divided into 2 parts, first is the 8k image set and second is the csv file containing 3 columns,image_name which is the name of the image file, the comment id and the comment.\n"
   ]
  },
  {
   "cell_type": "markdown",
   "id": "vanilla-montreal",
   "metadata": {},
   "source": [
    "# Problem Statement"
   ]
  },
  {
   "cell_type": "markdown",
   "id": "synthetic-future",
   "metadata": {},
   "source": [
    "Generating sentence based image descriptions or Captions for images as input.\n",
    "\n",
    "## Proposed Solution\n",
    "\n",
    "We apply a deep learning approach to solving this image captioning problem. We will try to use attention based mechanism to encode the image and generate captions using the decoder."
   ]
  },
  {
   "cell_type": "markdown",
   "id": "assisted-guess",
   "metadata": {},
   "source": [
    "# Downloading the Data"
   ]
  },
  {
   "cell_type": "code",
   "execution_count": 3,
   "id": "stopped-marks",
   "metadata": {},
   "outputs": [
    {
     "name": "stdout",
     "output_type": "stream",
     "text": [
      "Requirement already satisfied: kaggle in /home/ec2-user/anaconda3/envs/amazonei_tensorflow_p36/lib/python3.6/site-packages (1.5.10)\n",
      "Requirement already satisfied: urllib3 in /home/ec2-user/anaconda3/envs/amazonei_tensorflow_p36/lib/python3.6/site-packages (from kaggle) (1.25.11)\n",
      "Requirement already satisfied: tqdm in /home/ec2-user/anaconda3/envs/amazonei_tensorflow_p36/lib/python3.6/site-packages (from kaggle) (4.42.1)\n",
      "Requirement already satisfied: six>=1.10 in /home/ec2-user/anaconda3/envs/amazonei_tensorflow_p36/lib/python3.6/site-packages (from kaggle) (1.14.0)\n",
      "Requirement already satisfied: requests in /home/ec2-user/anaconda3/envs/amazonei_tensorflow_p36/lib/python3.6/site-packages (from kaggle) (2.22.0)\n",
      "Requirement already satisfied: certifi in /home/ec2-user/anaconda3/envs/amazonei_tensorflow_p36/lib/python3.6/site-packages (from kaggle) (2020.12.5)\n",
      "Requirement already satisfied: python-dateutil in /home/ec2-user/anaconda3/envs/amazonei_tensorflow_p36/lib/python3.6/site-packages (from kaggle) (2.8.1)\n",
      "Requirement already satisfied: python-slugify in /home/ec2-user/anaconda3/envs/amazonei_tensorflow_p36/lib/python3.6/site-packages (from kaggle) (4.0.1)\n",
      "Requirement already satisfied: text-unidecode>=1.3 in /home/ec2-user/anaconda3/envs/amazonei_tensorflow_p36/lib/python3.6/site-packages (from python-slugify->kaggle) (1.3)\n",
      "Requirement already satisfied: chardet<3.1.0,>=3.0.2 in /home/ec2-user/anaconda3/envs/amazonei_tensorflow_p36/lib/python3.6/site-packages (from requests->kaggle) (3.0.4)\n",
      "Requirement already satisfied: idna<2.9,>=2.5 in /home/ec2-user/anaconda3/envs/amazonei_tensorflow_p36/lib/python3.6/site-packages (from requests->kaggle) (2.8)\n",
      "Requirement already satisfied: kaggle-cli in /home/ec2-user/anaconda3/envs/amazonei_tensorflow_p36/lib/python3.6/site-packages (0.12.13)\n",
      "Requirement already satisfied: cliff<2.9,>=2.8.0 in /home/ec2-user/anaconda3/envs/amazonei_tensorflow_p36/lib/python3.6/site-packages (from kaggle-cli) (2.8.3)\n",
      "Requirement already satisfied: lxml<4.1,>=4.0.0 in /home/ec2-user/anaconda3/envs/amazonei_tensorflow_p36/lib/python3.6/site-packages (from kaggle-cli) (4.0.0)\n",
      "Requirement already satisfied: beautifulsoup4<4.7,>=4.6.0 in /home/ec2-user/anaconda3/envs/amazonei_tensorflow_p36/lib/python3.6/site-packages (from kaggle-cli) (4.6.3)\n",
      "Requirement already satisfied: MechanicalSoup<0.9,>=0.7.0 in /home/ec2-user/anaconda3/envs/amazonei_tensorflow_p36/lib/python3.6/site-packages (from kaggle-cli) (0.8.0)\n",
      "Requirement already satisfied: configparser in /home/ec2-user/anaconda3/envs/amazonei_tensorflow_p36/lib/python3.6/site-packages (from kaggle-cli) (5.0.2)\n",
      "Requirement already satisfied: progressbar2<3.35,>=3.34.3 in /home/ec2-user/anaconda3/envs/amazonei_tensorflow_p36/lib/python3.6/site-packages (from kaggle-cli) (3.34.3)\n",
      "Requirement already satisfied: cssselect<1.1,>=1.0.1 in /home/ec2-user/anaconda3/envs/amazonei_tensorflow_p36/lib/python3.6/site-packages (from kaggle-cli) (1.0.3)\n",
      "Requirement already satisfied: stevedore>=1.20.0 in /home/ec2-user/anaconda3/envs/amazonei_tensorflow_p36/lib/python3.6/site-packages (from cliff<2.9,>=2.8.0->kaggle-cli) (3.3.0)\n",
      "Requirement already satisfied: cmd2>=0.6.7 in /home/ec2-user/anaconda3/envs/amazonei_tensorflow_p36/lib/python3.6/site-packages (from cliff<2.9,>=2.8.0->kaggle-cli) (1.5.0)\n",
      "Requirement already satisfied: pbr!=2.1.0,>=2.0.0 in /home/ec2-user/anaconda3/envs/amazonei_tensorflow_p36/lib/python3.6/site-packages (from cliff<2.9,>=2.8.0->kaggle-cli) (5.5.1)\n",
      "Requirement already satisfied: six>=1.9.0 in /home/ec2-user/anaconda3/envs/amazonei_tensorflow_p36/lib/python3.6/site-packages (from cliff<2.9,>=2.8.0->kaggle-cli) (1.14.0)\n",
      "Requirement already satisfied: PyYAML>=3.10.0 in /home/ec2-user/anaconda3/envs/amazonei_tensorflow_p36/lib/python3.6/site-packages (from cliff<2.9,>=2.8.0->kaggle-cli) (5.4.1)\n",
      "Requirement already satisfied: pyparsing>=2.1.0 in /home/ec2-user/anaconda3/envs/amazonei_tensorflow_p36/lib/python3.6/site-packages (from cliff<2.9,>=2.8.0->kaggle-cli) (2.4.6)\n",
      "Requirement already satisfied: PrettyTable<0.8,>=0.7.1 in /home/ec2-user/anaconda3/envs/amazonei_tensorflow_p36/lib/python3.6/site-packages (from cliff<2.9,>=2.8.0->kaggle-cli) (0.7.2)\n",
      "Requirement already satisfied: attrs>=16.3.0 in /home/ec2-user/anaconda3/envs/amazonei_tensorflow_p36/lib/python3.6/site-packages (from cmd2>=0.6.7->cliff<2.9,>=2.8.0->kaggle-cli) (19.3.0)\n",
      "Requirement already satisfied: pyperclip>=1.6 in /home/ec2-user/anaconda3/envs/amazonei_tensorflow_p36/lib/python3.6/site-packages (from cmd2>=0.6.7->cliff<2.9,>=2.8.0->kaggle-cli) (1.8.2)\n",
      "Requirement already satisfied: importlib-metadata>=1.6.0 in /home/ec2-user/anaconda3/envs/amazonei_tensorflow_p36/lib/python3.6/site-packages (from cmd2>=0.6.7->cliff<2.9,>=2.8.0->kaggle-cli) (3.7.2)\n",
      "Requirement already satisfied: colorama>=0.3.7 in /home/ec2-user/anaconda3/envs/amazonei_tensorflow_p36/lib/python3.6/site-packages (from cmd2>=0.6.7->cliff<2.9,>=2.8.0->kaggle-cli) (0.4.3)\n",
      "Requirement already satisfied: wcwidth>=0.1.7 in /home/ec2-user/anaconda3/envs/amazonei_tensorflow_p36/lib/python3.6/site-packages (from cmd2>=0.6.7->cliff<2.9,>=2.8.0->kaggle-cli) (0.1.8)\n",
      "Requirement already satisfied: typing-extensions>=3.6.4 in /home/ec2-user/anaconda3/envs/amazonei_tensorflow_p36/lib/python3.6/site-packages (from importlib-metadata>=1.6.0->cmd2>=0.6.7->cliff<2.9,>=2.8.0->kaggle-cli) (3.7.4.3)\n",
      "Requirement already satisfied: zipp>=0.5 in /home/ec2-user/anaconda3/envs/amazonei_tensorflow_p36/lib/python3.6/site-packages (from importlib-metadata>=1.6.0->cmd2>=0.6.7->cliff<2.9,>=2.8.0->kaggle-cli) (2.2.0)\n",
      "Requirement already satisfied: requests>=2.0 in /home/ec2-user/anaconda3/envs/amazonei_tensorflow_p36/lib/python3.6/site-packages (from MechanicalSoup<0.9,>=0.7.0->kaggle-cli) (2.22.0)\n",
      "Requirement already satisfied: python-utils>=2.1.0 in /home/ec2-user/anaconda3/envs/amazonei_tensorflow_p36/lib/python3.6/site-packages (from progressbar2<3.35,>=3.34.3->kaggle-cli) (2.5.6)\n",
      "Requirement already satisfied: urllib3!=1.25.0,!=1.25.1,<1.26,>=1.21.1 in /home/ec2-user/anaconda3/envs/amazonei_tensorflow_p36/lib/python3.6/site-packages (from requests>=2.0->MechanicalSoup<0.9,>=0.7.0->kaggle-cli) (1.25.11)\n",
      "Requirement already satisfied: chardet<3.1.0,>=3.0.2 in /home/ec2-user/anaconda3/envs/amazonei_tensorflow_p36/lib/python3.6/site-packages (from requests>=2.0->MechanicalSoup<0.9,>=0.7.0->kaggle-cli) (3.0.4)\n",
      "Requirement already satisfied: idna<2.9,>=2.5 in /home/ec2-user/anaconda3/envs/amazonei_tensorflow_p36/lib/python3.6/site-packages (from requests>=2.0->MechanicalSoup<0.9,>=0.7.0->kaggle-cli) (2.8)\n",
      "Requirement already satisfied: certifi>=2017.4.17 in /home/ec2-user/anaconda3/envs/amazonei_tensorflow_p36/lib/python3.6/site-packages (from requests>=2.0->MechanicalSoup<0.9,>=0.7.0->kaggle-cli) (2020.12.5)\n"
     ]
    }
   ],
   "source": [
    "!pip install kaggle\n",
    "!pip install kaggle-cli"
   ]
  },
  {
   "cell_type": "code",
   "execution_count": 7,
   "id": "metallic-backup",
   "metadata": {},
   "outputs": [],
   "source": [
    "!chmod 600 /home/ec2-user/.kaggle/kaggle.json"
   ]
  },
  {
   "cell_type": "code",
   "execution_count": 10,
   "id": "animal-vietnam",
   "metadata": {},
   "outputs": [
    {
     "name": "stdout",
     "output_type": "stream",
     "text": [
      "Downloading flickr8k.zip to /home/ec2-user/SageMaker\n",
      " 99%|█████████████████████████████████████▋| 1.03G/1.04G [00:14<00:00, 73.7MB/s]\n",
      "100%|██████████████████████████████████████| 1.04G/1.04G [00:14<00:00, 74.3MB/s]\n"
     ]
    }
   ],
   "source": [
    "!kaggle datasets download -d adityajn105/flickr8k"
   ]
  },
  {
   "cell_type": "markdown",
   "id": "downtown-bubble",
   "metadata": {},
   "source": [
    "# Analysis"
   ]
  },
  {
   "cell_type": "code",
   "execution_count": null,
   "id": "limited-independence",
   "metadata": {},
   "outputs": [],
   "source": []
  }
 ],
 "metadata": {
  "kernelspec": {
   "display_name": "conda_amazonei_tensorflow_p36",
   "language": "python",
   "name": "conda_amazonei_tensorflow_p36"
  },
  "language_info": {
   "codemirror_mode": {
    "name": "ipython",
    "version": 3
   },
   "file_extension": ".py",
   "mimetype": "text/x-python",
   "name": "python",
   "nbconvert_exporter": "python",
   "pygments_lexer": "ipython3",
   "version": "3.6.10"
  }
 },
 "nbformat": 4,
 "nbformat_minor": 5
}
